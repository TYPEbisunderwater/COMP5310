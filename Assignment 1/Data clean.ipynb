{
 "cells": [
  {
   "cell_type": "markdown",
   "id": "a51a8d84",
   "metadata": {},
   "source": [
    "# Project Stage 1: Clean the data (Yuxin Zhao: )"
   ]
  },
  {
   "cell_type": "markdown",
   "id": "52201a14",
   "metadata": {},
   "source": [
    "## 1: read the old data"
   ]
  },
  {
   "cell_type": "code",
   "execution_count": 1,
   "id": "04c32f42",
   "metadata": {},
   "outputs": [
    {
     "data": {
      "text/html": [
       "<div>\n",
       "<style scoped>\n",
       "    .dataframe tbody tr th:only-of-type {\n",
       "        vertical-align: middle;\n",
       "    }\n",
       "\n",
       "    .dataframe tbody tr th {\n",
       "        vertical-align: top;\n",
       "    }\n",
       "\n",
       "    .dataframe thead th {\n",
       "        text-align: right;\n",
       "    }\n",
       "</style>\n",
       "<table border=\"1\" class=\"dataframe\">\n",
       "  <thead>\n",
       "    <tr style=\"text-align: right;\">\n",
       "      <th></th>\n",
       "      <th>Name</th>\n",
       "      <th>Region</th>\n",
       "      <th>Population (rounded)*</th>\n",
       "      <th>Postcode</th>\n",
       "      <th>Ethnic Breakdown 2016</th>\n",
       "      <th>Median House Price (2020)</th>\n",
       "      <th>Median House Price (2021)</th>\n",
       "      <th>% Change</th>\n",
       "      <th>Median House Rent (per week)</th>\n",
       "      <th>Median Apartment Price (2020)</th>\n",
       "      <th>...</th>\n",
       "      <th>Affordability (Rental)</th>\n",
       "      <th>Affordability (Buying)</th>\n",
       "      <th>Nature</th>\n",
       "      <th>Noise</th>\n",
       "      <th>Things to See/Do</th>\n",
       "      <th>Family-Friendliness</th>\n",
       "      <th>Pet Friendliness</th>\n",
       "      <th>Safety</th>\n",
       "      <th>Overall Rating</th>\n",
       "      <th>Review Link</th>\n",
       "    </tr>\n",
       "  </thead>\n",
       "  <tbody>\n",
       "    <tr>\n",
       "      <th>0</th>\n",
       "      <td>Hornsby</td>\n",
       "      <td>Upper North Shore</td>\n",
       "      <td>23,000</td>\n",
       "      <td>2077</td>\n",
       "      <td>Chinese 17.1%, English 16.8%, Australian 14.0%...</td>\n",
       "      <td>$1,150,000.00</td>\n",
       "      <td>$1,400,000.00</td>\n",
       "      <td>21.74%</td>\n",
       "      <td>$600.00</td>\n",
       "      <td>$645,000.00</td>\n",
       "      <td>...</td>\n",
       "      <td>7.0</td>\n",
       "      <td>6.0</td>\n",
       "      <td>8.0</td>\n",
       "      <td>7.0</td>\n",
       "      <td>7.0</td>\n",
       "      <td>9.0</td>\n",
       "      <td>8.0</td>\n",
       "      <td>9.0</td>\n",
       "      <td>7.1</td>\n",
       "      <td>https://sydneysuburbreviews.com/hornsby</td>\n",
       "    </tr>\n",
       "    <tr>\n",
       "      <th>1</th>\n",
       "      <td>Oatley</td>\n",
       "      <td>Southern Suburbs</td>\n",
       "      <td>10,500</td>\n",
       "      <td>2223</td>\n",
       "      <td>English 23.0%, Australian 21.1%, Chinese 9.8%,...</td>\n",
       "      <td>$1,550,000.00</td>\n",
       "      <td>$1,800,000.00</td>\n",
       "      <td>16.13%</td>\n",
       "      <td>$670.00</td>\n",
       "      <td>$780,000.00</td>\n",
       "      <td>...</td>\n",
       "      <td>6.0</td>\n",
       "      <td>4.0</td>\n",
       "      <td>8.0</td>\n",
       "      <td>9.0</td>\n",
       "      <td>5.0</td>\n",
       "      <td>9.0</td>\n",
       "      <td>8.0</td>\n",
       "      <td>9.0</td>\n",
       "      <td>7.0</td>\n",
       "      <td>https://sydneysuburbreviews.com/oatley-suburb-...</td>\n",
       "    </tr>\n",
       "    <tr>\n",
       "      <th>2</th>\n",
       "      <td>Dulwich Hill</td>\n",
       "      <td>Inner West</td>\n",
       "      <td>14,500</td>\n",
       "      <td>2203</td>\n",
       "      <td>English 19.4%, Australian 16.4%, Irish 9.5%, S...</td>\n",
       "      <td>$1,500,000.00</td>\n",
       "      <td>$1,900,000.00</td>\n",
       "      <td>26.67%</td>\n",
       "      <td>$725.00</td>\n",
       "      <td>$780,000.00</td>\n",
       "      <td>...</td>\n",
       "      <td>6.0</td>\n",
       "      <td>4.0</td>\n",
       "      <td>8.0</td>\n",
       "      <td>7.0</td>\n",
       "      <td>6.0</td>\n",
       "      <td>8.0</td>\n",
       "      <td>9.0</td>\n",
       "      <td>8.0</td>\n",
       "      <td>6.9</td>\n",
       "      <td>https://sydneysuburbreviews.com/dulwich-hill</td>\n",
       "    </tr>\n",
       "  </tbody>\n",
       "</table>\n",
       "<p>3 rows × 30 columns</p>\n",
       "</div>"
      ],
      "text/plain": [
       "           Name             Region Population (rounded)*  Postcode  \\\n",
       "0       Hornsby  Upper North Shore                23,000      2077   \n",
       "1        Oatley   Southern Suburbs                10,500      2223   \n",
       "2  Dulwich Hill         Inner West                14,500      2203   \n",
       "\n",
       "                               Ethnic Breakdown 2016  \\\n",
       "0  Chinese 17.1%, English 16.8%, Australian 14.0%...   \n",
       "1  English 23.0%, Australian 21.1%, Chinese 9.8%,...   \n",
       "2  English 19.4%, Australian 16.4%, Irish 9.5%, S...   \n",
       "\n",
       "  Median House Price (2020) Median House Price (2021) % Change  \\\n",
       "0             $1,150,000.00             $1,400,000.00   21.74%   \n",
       "1             $1,550,000.00             $1,800,000.00   16.13%   \n",
       "2             $1,500,000.00             $1,900,000.00   26.67%   \n",
       "\n",
       "  Median House Rent (per week) Median Apartment Price (2020)  ...  \\\n",
       "0                      $600.00                   $645,000.00  ...   \n",
       "1                      $670.00                   $780,000.00  ...   \n",
       "2                      $725.00                   $780,000.00  ...   \n",
       "\n",
       "  Affordability (Rental) Affordability (Buying)  Nature Noise  \\\n",
       "0                    7.0                    6.0     8.0   7.0   \n",
       "1                    6.0                    4.0     8.0   9.0   \n",
       "2                    6.0                    4.0     8.0   7.0   \n",
       "\n",
       "  Things to See/Do Family-Friendliness Pet Friendliness Safety  \\\n",
       "0              7.0                 9.0              8.0    9.0   \n",
       "1              5.0                 9.0              8.0    9.0   \n",
       "2              6.0                 8.0              9.0    8.0   \n",
       "\n",
       "   Overall Rating                                        Review Link  \n",
       "0             7.1            https://sydneysuburbreviews.com/hornsby  \n",
       "1             7.0  https://sydneysuburbreviews.com/oatley-suburb-...  \n",
       "2             6.9       https://sydneysuburbreviews.com/dulwich-hill  \n",
       "\n",
       "[3 rows x 30 columns]"
      ]
     },
     "execution_count": 1,
     "metadata": {},
     "output_type": "execute_result"
    }
   ],
   "source": [
    "import pandas as pd\n",
    "import numpy as np\n",
    "dataframe=pd.read_csv('Sydney Suburbs Reviews old.csv')\n",
    "dataframe.head(3)"
   ]
  },
  {
   "cell_type": "markdown",
   "id": "9d7173ca",
   "metadata": {},
   "source": [
    "## 2: Drop the 'Review Link' column."
   ]
  },
  {
   "cell_type": "code",
   "execution_count": 2,
   "id": "bc7cc126",
   "metadata": {},
   "outputs": [
    {
     "data": {
      "text/html": [
       "<div>\n",
       "<style scoped>\n",
       "    .dataframe tbody tr th:only-of-type {\n",
       "        vertical-align: middle;\n",
       "    }\n",
       "\n",
       "    .dataframe tbody tr th {\n",
       "        vertical-align: top;\n",
       "    }\n",
       "\n",
       "    .dataframe thead th {\n",
       "        text-align: right;\n",
       "    }\n",
       "</style>\n",
       "<table border=\"1\" class=\"dataframe\">\n",
       "  <thead>\n",
       "    <tr style=\"text-align: right;\">\n",
       "      <th></th>\n",
       "      <th>Name</th>\n",
       "      <th>Region</th>\n",
       "      <th>Population (rounded)*</th>\n",
       "      <th>Postcode</th>\n",
       "      <th>Ethnic Breakdown 2016</th>\n",
       "      <th>Median House Price (2020)</th>\n",
       "      <th>Median House Price (2021)</th>\n",
       "      <th>% Change</th>\n",
       "      <th>Median House Rent (per week)</th>\n",
       "      <th>Median Apartment Price (2020)</th>\n",
       "      <th>...</th>\n",
       "      <th>Public Transport</th>\n",
       "      <th>Affordability (Rental)</th>\n",
       "      <th>Affordability (Buying)</th>\n",
       "      <th>Nature</th>\n",
       "      <th>Noise</th>\n",
       "      <th>Things to See/Do</th>\n",
       "      <th>Family-Friendliness</th>\n",
       "      <th>Pet Friendliness</th>\n",
       "      <th>Safety</th>\n",
       "      <th>Overall Rating</th>\n",
       "    </tr>\n",
       "  </thead>\n",
       "  <tbody>\n",
       "    <tr>\n",
       "      <th>0</th>\n",
       "      <td>Hornsby</td>\n",
       "      <td>Upper North Shore</td>\n",
       "      <td>23,000</td>\n",
       "      <td>2077</td>\n",
       "      <td>Chinese 17.1%, English 16.8%, Australian 14.0%...</td>\n",
       "      <td>$1,150,000.00</td>\n",
       "      <td>$1,400,000.00</td>\n",
       "      <td>21.74%</td>\n",
       "      <td>$600.00</td>\n",
       "      <td>$645,000.00</td>\n",
       "      <td>...</td>\n",
       "      <td>6.0</td>\n",
       "      <td>7.0</td>\n",
       "      <td>6.0</td>\n",
       "      <td>8.0</td>\n",
       "      <td>7.0</td>\n",
       "      <td>7.0</td>\n",
       "      <td>9.0</td>\n",
       "      <td>8.0</td>\n",
       "      <td>9.0</td>\n",
       "      <td>7.1</td>\n",
       "    </tr>\n",
       "    <tr>\n",
       "      <th>1</th>\n",
       "      <td>Oatley</td>\n",
       "      <td>Southern Suburbs</td>\n",
       "      <td>10,500</td>\n",
       "      <td>2223</td>\n",
       "      <td>English 23.0%, Australian 21.1%, Chinese 9.8%,...</td>\n",
       "      <td>$1,550,000.00</td>\n",
       "      <td>$1,800,000.00</td>\n",
       "      <td>16.13%</td>\n",
       "      <td>$670.00</td>\n",
       "      <td>$780,000.00</td>\n",
       "      <td>...</td>\n",
       "      <td>6.0</td>\n",
       "      <td>6.0</td>\n",
       "      <td>4.0</td>\n",
       "      <td>8.0</td>\n",
       "      <td>9.0</td>\n",
       "      <td>5.0</td>\n",
       "      <td>9.0</td>\n",
       "      <td>8.0</td>\n",
       "      <td>9.0</td>\n",
       "      <td>7.0</td>\n",
       "    </tr>\n",
       "    <tr>\n",
       "      <th>2</th>\n",
       "      <td>Dulwich Hill</td>\n",
       "      <td>Inner West</td>\n",
       "      <td>14,500</td>\n",
       "      <td>2203</td>\n",
       "      <td>English 19.4%, Australian 16.4%, Irish 9.5%, S...</td>\n",
       "      <td>$1,500,000.00</td>\n",
       "      <td>$1,900,000.00</td>\n",
       "      <td>26.67%</td>\n",
       "      <td>$725.00</td>\n",
       "      <td>$780,000.00</td>\n",
       "      <td>...</td>\n",
       "      <td>8.0</td>\n",
       "      <td>6.0</td>\n",
       "      <td>4.0</td>\n",
       "      <td>8.0</td>\n",
       "      <td>7.0</td>\n",
       "      <td>6.0</td>\n",
       "      <td>8.0</td>\n",
       "      <td>9.0</td>\n",
       "      <td>8.0</td>\n",
       "      <td>6.9</td>\n",
       "    </tr>\n",
       "  </tbody>\n",
       "</table>\n",
       "<p>3 rows × 29 columns</p>\n",
       "</div>"
      ],
      "text/plain": [
       "           Name             Region Population (rounded)*  Postcode  \\\n",
       "0       Hornsby  Upper North Shore                23,000      2077   \n",
       "1        Oatley   Southern Suburbs                10,500      2223   \n",
       "2  Dulwich Hill         Inner West                14,500      2203   \n",
       "\n",
       "                               Ethnic Breakdown 2016  \\\n",
       "0  Chinese 17.1%, English 16.8%, Australian 14.0%...   \n",
       "1  English 23.0%, Australian 21.1%, Chinese 9.8%,...   \n",
       "2  English 19.4%, Australian 16.4%, Irish 9.5%, S...   \n",
       "\n",
       "  Median House Price (2020) Median House Price (2021) % Change  \\\n",
       "0             $1,150,000.00             $1,400,000.00   21.74%   \n",
       "1             $1,550,000.00             $1,800,000.00   16.13%   \n",
       "2             $1,500,000.00             $1,900,000.00   26.67%   \n",
       "\n",
       "  Median House Rent (per week) Median Apartment Price (2020)  ...  \\\n",
       "0                      $600.00                   $645,000.00  ...   \n",
       "1                      $670.00                   $780,000.00  ...   \n",
       "2                      $725.00                   $780,000.00  ...   \n",
       "\n",
       "  Public Transport Affordability (Rental)  Affordability (Buying) Nature  \\\n",
       "0              6.0                    7.0                     6.0    8.0   \n",
       "1              6.0                    6.0                     4.0    8.0   \n",
       "2              8.0                    6.0                     4.0    8.0   \n",
       "\n",
       "  Noise Things to See/Do Family-Friendliness Pet Friendliness  Safety  \\\n",
       "0   7.0              7.0                 9.0              8.0     9.0   \n",
       "1   9.0              5.0                 9.0              8.0     9.0   \n",
       "2   7.0              6.0                 8.0              9.0     8.0   \n",
       "\n",
       "   Overall Rating  \n",
       "0             7.1  \n",
       "1             7.0  \n",
       "2             6.9  \n",
       "\n",
       "[3 rows x 29 columns]"
      ]
     },
     "execution_count": 2,
     "metadata": {},
     "output_type": "execute_result"
    }
   ],
   "source": [
    "dataframe=dataframe.drop(columns=['Review Link'])\n",
    "dataframe.head(3)"
   ]
  },
  {
   "cell_type": "code",
   "execution_count": 3,
   "id": "da997794",
   "metadata": {},
   "outputs": [
    {
     "data": {
      "text/plain": [
       "(421, 29)"
      ]
     },
     "execution_count": 3,
     "metadata": {},
     "output_type": "execute_result"
    }
   ],
   "source": [
    "dataframe.shape"
   ]
  },
  {
   "cell_type": "markdown",
   "id": "2bdcab0f",
   "metadata": {},
   "source": [
    "## 3: Deal the NA data."
   ]
  },
  {
   "cell_type": "code",
   "execution_count": 4,
   "id": "b843262a",
   "metadata": {},
   "outputs": [
    {
     "data": {
      "text/plain": [
       "Name                                               0\n",
       "Region                                             0\n",
       "Population (rounded)*                              0\n",
       "Postcode                                           0\n",
       "Ethnic Breakdown 2016                              0\n",
       "% Change                                           0\n",
       "Pet Friendliness                                   1\n",
       "Family-Friendliness                                1\n",
       "Things to See/Do                                   1\n",
       "Noise                                              1\n",
       "Nature                                             1\n",
       "Affordability (Buying)                             1\n",
       "Affordability (Rental)                             1\n",
       "Public Transport                                   1\n",
       "Overall Rating                                     1\n",
       "Median House Price (2020)                          1\n",
       "Safety                                             1\n",
       "Traffic                                            2\n",
       "Public Housing %                                   2\n",
       "Time to CBD (Driving) [Town Hall St]               2\n",
       "Time to CBD (Public Transport) [Town Hall St]      4\n",
       "Median House Price (2021)                         12\n",
       "Median House Rent (per week)                      19\n",
       "Avg. Years Held                                   51\n",
       "Nearest Train Station                             71\n",
       "Median Apartment Rent (per week)                  71\n",
       "Median Apartment Price (2020)                    122\n",
       "Ideal for                                        305\n",
       "Highlights/Attractions                           307\n",
       "dtype: int64"
      ]
     },
     "execution_count": 4,
     "metadata": {},
     "output_type": "execute_result"
    }
   ],
   "source": [
    "dataframe.isnull().sum().sort_values()"
   ]
  },
  {
   "cell_type": "code",
   "execution_count": 5,
   "id": "c49a20a8",
   "metadata": {},
   "outputs": [],
   "source": [
    "dataframe=dataframe.dropna(axis=0,how='any')"
   ]
  },
  {
   "cell_type": "code",
   "execution_count": 6,
   "id": "dd0e0fb5",
   "metadata": {},
   "outputs": [
    {
     "data": {
      "text/plain": [
       "(98, 29)"
      ]
     },
     "execution_count": 6,
     "metadata": {},
     "output_type": "execute_result"
    }
   ],
   "source": [
    "dataframe.shape"
   ]
  },
  {
   "cell_type": "code",
   "execution_count": 7,
   "id": "538a004d",
   "metadata": {},
   "outputs": [],
   "source": [
    "dataframe.to_csv('Sydney Suburbs Reviews noNA.csv')"
   ]
  },
  {
   "cell_type": "markdown",
   "id": "73de5dd2",
   "metadata": {},
   "source": [
    "## 4: Is there a duplicate?"
   ]
  },
  {
   "cell_type": "code",
   "execution_count": 8,
   "id": "a81e8c36",
   "metadata": {},
   "outputs": [
    {
     "data": {
      "text/plain": [
       "False"
      ]
     },
     "execution_count": 8,
     "metadata": {},
     "output_type": "execute_result"
    }
   ],
   "source": [
    "dataframe.duplicated().any()"
   ]
  },
  {
   "cell_type": "markdown",
   "id": "92724ef2",
   "metadata": {},
   "source": [
    "## 5: Splitting the '2016 Ethnic Classification' Feature"
   ]
  },
  {
   "cell_type": "code",
   "execution_count": 9,
   "id": "00703247",
   "metadata": {},
   "outputs": [],
   "source": [
    "dataframe=pd.read_csv('Sydney Suburbs Reviews noNA.csv')\n",
    "Eb=dataframe['Ethnic Breakdown 2016'].str.split(', ',expand=True)\n",
    "Eb.columns=['TopCountry1','TopCountry2','TopCountry3','TopCountry4','TopCountry5']"
   ]
  },
  {
   "cell_type": "code",
   "execution_count": 10,
   "id": "355d1c60",
   "metadata": {
    "scrolled": true
   },
   "outputs": [
    {
     "name": "stdout",
     "output_type": "stream",
     "text": [
      "         TopCountry1       TopCountry2       TopCountry3      TopCountry4  \\\n",
      "0      Chinese 17.1%     English 16.8%  Australian 14.0%      Indian 5.9%   \n",
      "1      English 23.0%  Australian 21.1%      Chinese 9.8%       Irish 8.9%   \n",
      "2      English 19.4%  Australian 16.4%        Irish 9.5%    Scottish 6.2%   \n",
      "3      English 28.2%  Australian 26.3%        Irish 9.8%    Scottish 6.5%   \n",
      "4      English 24.9%  Australian 15.5%       Irish 11.0%     Chinese 8.4%   \n",
      "..               ...               ...               ...              ...   \n",
      "93     Chinese 33.8%     English 13.1%   Australian 8.1%       Irish 6.2%   \n",
      "94     English 22.4%  Australian 12.4%        Irish 9.6%    Scottish 7.0%   \n",
      "95     Chinese 18.1%     English 13.0%  Australian 11.7%       Irish 5.5%   \n",
      "96  Vietnamese 16.3%    Lebanese 12.7%      Chinese 9.5%  Australian 6.8%   \n",
      "97     English 22.6%  Australian 17.5%       Irish 10.8%    Scottish 6.9%   \n",
      "\n",
      "      TopCountry5  \n",
      "0      Irish 5.6%  \n",
      "1   Scottish 5.7%  \n",
      "2      Greek 5.2%  \n",
      "3    Chinese 3.0%  \n",
      "4   Scottish 8.1%  \n",
      "..            ...  \n",
      "93  Scottish 3.6%  \n",
      "94   Chinese 4.0%  \n",
      "95     Greek 4.3%  \n",
      "96   English 5.6%  \n",
      "97   Chinese 5.8%  \n",
      "\n",
      "[98 rows x 5 columns]\n",
      "<class 'pandas.core.frame.DataFrame'>\n"
     ]
    },
    {
     "data": {
      "text/plain": [
       "(98, 5)"
      ]
     },
     "execution_count": 10,
     "metadata": {},
     "output_type": "execute_result"
    }
   ],
   "source": [
    "print(Eb)\n",
    "print(type(Eb))\n",
    "Eb.shape"
   ]
  },
  {
   "cell_type": "code",
   "execution_count": 11,
   "id": "4fd5fdeb",
   "metadata": {},
   "outputs": [],
   "source": [
    "dataframe=pd.read_csv('Sydney Suburbs Reviews noNA.csv')\n",
    "i=0\n",
    "dataframe['TopCountry1']=Eb['TopCountry1']\n",
    "dataframe['TopCountry2']=Eb['TopCountry2']\n",
    "dataframe['TopCountry3']=Eb['TopCountry3']\n",
    "dataframe['TopCountry4']=Eb['TopCountry4']\n",
    "dataframe['TopCountry5']=Eb['TopCountry5']\n",
    "dataframe.head()\n",
    "data=dataframe.drop(columns=['Ethnic Breakdown 2016','Unnamed: 0'])\n",
    "data.to_csv('Sydney Suburbs Reviews noNA Splitted.csv')"
   ]
  },
  {
   "cell_type": "markdown",
   "id": "25b2f8d3",
   "metadata": {},
   "source": [
    "## 6: Clear symbols"
   ]
  },
  {
   "cell_type": "code",
   "execution_count": 12,
   "id": "9f38ec0d",
   "metadata": {},
   "outputs": [],
   "source": [
    "dataframe=pd.read_csv('Sydney Suburbs Reviews noNA Splitted.csv')\n",
    "dataframe['Median House Price (2020)']=(dataframe['Median House Price (2020)'].str.strip('$'))\n",
    "dataframe['Median House Price (2021)']=(dataframe['Median House Price (2021)'].str.strip('$'))\n",
    "dataframe['Median House Rent (per week)']=(dataframe['Median House Rent (per week)'].str.strip('$'))\n",
    "dataframe['Median Apartment Price (2020)']=(dataframe['Median Apartment Price (2020)'].str.strip('$'))\n",
    "dataframe['Median Apartment Rent (per week)']=(dataframe['Median Apartment Rent (per week)'].str.strip('$'))"
   ]
  },
  {
   "cell_type": "code",
   "execution_count": 13,
   "id": "59b798df",
   "metadata": {},
   "outputs": [],
   "source": [
    "dataframe.to_csv('Sydney Suburbs Reviews noNA Splitted.csv')"
   ]
  },
  {
   "cell_type": "markdown",
   "id": "bffd79e6",
   "metadata": {},
   "source": [
    "## 7: Uniform data"
   ]
  },
  {
   "cell_type": "code",
   "execution_count": 14,
   "id": "54a92990",
   "metadata": {},
   "outputs": [],
   "source": [
    "dataframe=pd.read_csv('Sydney Suburbs Reviews noNA Splitted.csv')"
   ]
  },
  {
   "cell_type": "code",
   "execution_count": 15,
   "id": "ea17bb9b",
   "metadata": {},
   "outputs": [
    {
     "name": "stdout",
     "output_type": "stream",
     "text": [
      "4    15 mins\n",
      "Name: Time to CBD (Driving) [Town Hall St], dtype: object\n",
      "45    25 minuntes\n",
      "Name: Time to CBD (Public Transport) [Town Hall St], dtype: object\n"
     ]
    }
   ],
   "source": [
    "import re\n",
    "data1=dataframe['Time to CBD (Driving) [Town Hall St]']\n",
    "bool=data1.str.contains('mins',case=True, flags=0,regex=True)\n",
    "C1data=data1[bool]\n",
    "print(C1data)\n",
    "data2=dataframe['Time to CBD (Public Transport) [Town Hall St]']\n",
    "bool=data2.str.contains('minuntes',case=True, flags=0,regex=True)\n",
    "C2data=data2[bool]\n",
    "print(C2data)"
   ]
  },
  {
   "cell_type": "code",
   "execution_count": 16,
   "id": "86b704c1",
   "metadata": {
    "scrolled": true
   },
   "outputs": [
    {
     "name": "stderr",
     "output_type": "stream",
     "text": [
      "/var/folders/67/bmq_szlj0yx_qt_x877bqv940000gn/T/ipykernel_47498/3959762102.py:1: SettingWithCopyWarning: \n",
      "A value is trying to be set on a copy of a slice from a DataFrame\n",
      "\n",
      "See the caveats in the documentation: https://pandas.pydata.org/pandas-docs/stable/user_guide/indexing.html#returning-a-view-versus-a-copy\n",
      "  dataframe['Time to CBD (Driving) [Town Hall St]'].loc[4]=15\n",
      "/var/folders/67/bmq_szlj0yx_qt_x877bqv940000gn/T/ipykernel_47498/3959762102.py:2: SettingWithCopyWarning: \n",
      "A value is trying to be set on a copy of a slice from a DataFrame\n",
      "\n",
      "See the caveats in the documentation: https://pandas.pydata.org/pandas-docs/stable/user_guide/indexing.html#returning-a-view-versus-a-copy\n",
      "  dataframe['Time to CBD (Public Transport) [Town Hall St]'].loc[45]=25\n"
     ]
    }
   ],
   "source": [
    "dataframe['Time to CBD (Driving) [Town Hall St]'].loc[4]=15\n",
    "dataframe['Time to CBD (Public Transport) [Town Hall St]'].loc[45]=25"
   ]
  },
  {
   "cell_type": "code",
   "execution_count": 17,
   "id": "81dc3a66",
   "metadata": {},
   "outputs": [],
   "source": [
    "dataframe=dataframe.drop(columns=['Unnamed: 0.1','Unnamed: 0'])\n",
    "dataframe.to_csv('Sydney Suburbs Reviews noNA Splitted.csv')"
   ]
  },
  {
   "cell_type": "markdown",
   "id": "102695bc",
   "metadata": {},
   "source": [
    "## 8: Splitting the 'Idea for' Feature and classify the class"
   ]
  },
  {
   "cell_type": "code",
   "execution_count": 18,
   "id": "1ba6754c",
   "metadata": {},
   "outputs": [
    {
     "data": {
      "text/html": [
       "<div>\n",
       "<style scoped>\n",
       "    .dataframe tbody tr th:only-of-type {\n",
       "        vertical-align: middle;\n",
       "    }\n",
       "\n",
       "    .dataframe tbody tr th {\n",
       "        vertical-align: top;\n",
       "    }\n",
       "\n",
       "    .dataframe thead th {\n",
       "        text-align: right;\n",
       "    }\n",
       "</style>\n",
       "<table border=\"1\" class=\"dataframe\">\n",
       "  <thead>\n",
       "    <tr style=\"text-align: right;\">\n",
       "      <th></th>\n",
       "      <th>0</th>\n",
       "      <th>1</th>\n",
       "      <th>2</th>\n",
       "      <th>3</th>\n",
       "    </tr>\n",
       "  </thead>\n",
       "  <tbody>\n",
       "    <tr>\n",
       "      <th>0</th>\n",
       "      <td>Small families</td>\n",
       "      <td>families</td>\n",
       "      <td>retirees</td>\n",
       "      <td>professionals</td>\n",
       "    </tr>\n",
       "    <tr>\n",
       "      <th>1</th>\n",
       "      <td>Families</td>\n",
       "      <td>professionals</td>\n",
       "      <td>retirees</td>\n",
       "      <td>None</td>\n",
       "    </tr>\n",
       "    <tr>\n",
       "      <th>2</th>\n",
       "      <td>Professionals</td>\n",
       "      <td>families</td>\n",
       "      <td>retirees</td>\n",
       "      <td>None</td>\n",
       "    </tr>\n",
       "    <tr>\n",
       "      <th>3</th>\n",
       "      <td>Small families</td>\n",
       "      <td>families</td>\n",
       "      <td>retirees</td>\n",
       "      <td>professionals</td>\n",
       "    </tr>\n",
       "    <tr>\n",
       "      <th>4</th>\n",
       "      <td>Retirees</td>\n",
       "      <td>young professionals</td>\n",
       "      <td>wealthy families</td>\n",
       "      <td>None</td>\n",
       "    </tr>\n",
       "    <tr>\n",
       "      <th>...</th>\n",
       "      <td>...</td>\n",
       "      <td>...</td>\n",
       "      <td>...</td>\n",
       "      <td>...</td>\n",
       "    </tr>\n",
       "    <tr>\n",
       "      <th>93</th>\n",
       "      <td>University students</td>\n",
       "      <td>young professionals</td>\n",
       "      <td>small familes</td>\n",
       "      <td>None</td>\n",
       "    </tr>\n",
       "    <tr>\n",
       "      <th>94</th>\n",
       "      <td>University students</td>\n",
       "      <td>backpackers</td>\n",
       "      <td>young professionals</td>\n",
       "      <td>None</td>\n",
       "    </tr>\n",
       "    <tr>\n",
       "      <th>95</th>\n",
       "      <td>Young professionals</td>\n",
       "      <td>professionals</td>\n",
       "      <td>small families</td>\n",
       "      <td>None</td>\n",
       "    </tr>\n",
       "    <tr>\n",
       "      <th>96</th>\n",
       "      <td>Young professionals</td>\n",
       "      <td>families</td>\n",
       "      <td>None</td>\n",
       "      <td>None</td>\n",
       "    </tr>\n",
       "    <tr>\n",
       "      <th>97</th>\n",
       "      <td>Young professionals</td>\n",
       "      <td>small families</td>\n",
       "      <td>None</td>\n",
       "      <td>None</td>\n",
       "    </tr>\n",
       "  </tbody>\n",
       "</table>\n",
       "<p>98 rows × 4 columns</p>\n",
       "</div>"
      ],
      "text/plain": [
       "                      0                    1                    2  \\\n",
       "0        Small families             families             retirees   \n",
       "1              Families        professionals             retirees   \n",
       "2         Professionals             families             retirees   \n",
       "3        Small families             families             retirees   \n",
       "4              Retirees  young professionals     wealthy families   \n",
       "..                  ...                  ...                  ...   \n",
       "93  University students  young professionals        small familes   \n",
       "94  University students          backpackers  young professionals   \n",
       "95  Young professionals        professionals       small families   \n",
       "96  Young professionals             families                 None   \n",
       "97  Young professionals       small families                 None   \n",
       "\n",
       "                3  \n",
       "0   professionals  \n",
       "1            None  \n",
       "2            None  \n",
       "3   professionals  \n",
       "4            None  \n",
       "..            ...  \n",
       "93           None  \n",
       "94           None  \n",
       "95           None  \n",
       "96           None  \n",
       "97           None  \n",
       "\n",
       "[98 rows x 4 columns]"
      ]
     },
     "execution_count": 18,
     "metadata": {},
     "output_type": "execute_result"
    }
   ],
   "source": [
    "dataframe=pd.read_csv('Sydney Suburbs Reviews noNA Splitted.csv')\n",
    "Eb=dataframe['Ideal for'].str.split(', ',expand=True)\n",
    "Eb"
   ]
  },
  {
   "cell_type": "code",
   "execution_count": 19,
   "id": "b0558d75",
   "metadata": {},
   "outputs": [
    {
     "name": "stdout",
     "output_type": "stream",
     "text": [
      "None\n"
     ]
    }
   ],
   "source": [
    "Eb[0]=Eb[0].str.lower()\n",
    "Eb\n",
    "print(Eb[3][2])"
   ]
  },
  {
   "cell_type": "code",
   "execution_count": 20,
   "id": "3434283e",
   "metadata": {},
   "outputs": [],
   "source": [
    "from enum import Enum\n",
    "class Recommend(Enum):\n",
    "    FAMILY=1\n",
    "    PROFESSIONAL=2\n",
    "    RETIREE=3\n",
    "    OTHER=4\n",
    "    NONE=0\n",
    "\n",
    "def classfiy(value):\n",
    "    if value in {'small families','families','wealthy families'}:\n",
    "        return (Recommend.FAMILY)\n",
    "    elif value in {'professionals','young professionals'}:\n",
    "        return (Recommend.PROFESSIONAL)\n",
    "    elif value in{'retirees'}:\n",
    "        return (Recommend.RETIREE)\n",
    "    elif value==None:\n",
    "        return (Recommend.NONE)\n",
    "    else:\n",
    "        return (Recommend.OTHER)\n",
    "i=0\n",
    "for i in range(0,4):\n",
    "    Eb[i]=Eb[i].apply(classfiy)\n",
    "Eb.columns=['Recommend1','Recommend2','Recommend3','Recommend4']\n",
    "dataframe['Recommend1']=Eb['Recommend1']\n",
    "dataframe['Recommend2']=Eb['Recommend2']\n",
    "dataframe['Recommend3']=Eb['Recommend3']\n",
    "dataframe['Recommend4']=Eb['Recommend4']\n",
    "data=dataframe.drop(columns=['Ideal for','Unnamed: 0'])\n",
    "data.to_csv('Sydney Suburbs Reviews clean.csv')"
   ]
  },
  {
   "cell_type": "code",
   "execution_count": null,
   "id": "7bfa0cd2",
   "metadata": {},
   "outputs": [],
   "source": []
  }
 ],
 "metadata": {
  "kernelspec": {
   "display_name": "Python 3 (ipykernel)",
   "language": "python",
   "name": "python3"
  },
  "language_info": {
   "codemirror_mode": {
    "name": "ipython",
    "version": 3
   },
   "file_extension": ".py",
   "mimetype": "text/x-python",
   "name": "python",
   "nbconvert_exporter": "python",
   "pygments_lexer": "ipython3",
   "version": "3.9.13"
  }
 },
 "nbformat": 4,
 "nbformat_minor": 5
}
